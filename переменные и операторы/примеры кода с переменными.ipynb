{
 "cells": [
  {
   "cell_type": "markdown",
   "id": "032a7af1",
   "metadata": {},
   "source": []
  },
  {
   "cell_type": "markdown",
   "id": "3e344b74",
   "metadata": {},
   "source": [
    "# 1) variable scope: видимость переменных на чтение и на запись разная"
   ]
  },
  {
   "cell_type": "markdown",
   "id": "a44af3f0",
   "metadata": {},
   "source": [
    "### этот код напечатает 10 10"
   ]
  },
  {
   "cell_type": "code",
   "execution_count": 1,
   "id": "56489dc7",
   "metadata": {},
   "outputs": [
    {
     "name": "stdout",
     "output_type": "stream",
     "text": [
      "10\n",
      "10\n"
     ]
    }
   ],
   "source": [
    "i=10\n",
    "def foo():\n",
    "    print(i)\n",
    "foo()\n",
    "print(i)"
   ]
  },
  {
   "cell_type": "markdown",
   "id": "3356d532",
   "metadata": {},
   "source": [
    "### этот код напечатает 2 10"
   ]
  },
  {
   "cell_type": "code",
   "execution_count": 2,
   "id": "ae624484",
   "metadata": {},
   "outputs": [
    {
     "name": "stdout",
     "output_type": "stream",
     "text": [
      "2\n",
      "10\n"
     ]
    }
   ],
   "source": [
    "i=10\n",
    "def foo():\n",
    "    i = 2\n",
    "    print(i)\n",
    "foo()\n",
    "print(i)"
   ]
  },
  {
   "cell_type": "markdown",
   "id": "5363c44d",
   "metadata": {},
   "source": [
    "### а вот этот откажется компилироваться"
   ]
  },
  {
   "cell_type": "code",
   "execution_count": 3,
   "id": "d6086f49",
   "metadata": {},
   "outputs": [
    {
     "ename": "UnboundLocalError",
     "evalue": "local variable 'i' referenced before assignment",
     "output_type": "error",
     "traceback": [
      "\u001b[1;31m---------------------------------------------------------------------------\u001b[0m",
      "\u001b[1;31mUnboundLocalError\u001b[0m                         Traceback (most recent call last)",
      "Input \u001b[1;32mIn [3]\u001b[0m, in \u001b[0;36m<cell line: 5>\u001b[1;34m()\u001b[0m\n\u001b[0;32m      3\u001b[0m     \u001b[38;5;28mprint\u001b[39m(i)\n\u001b[0;32m      4\u001b[0m     i \u001b[38;5;241m=\u001b[39m \u001b[38;5;241m2\u001b[39m\n\u001b[1;32m----> 5\u001b[0m \u001b[43mfoo\u001b[49m\u001b[43m(\u001b[49m\u001b[43m)\u001b[49m\n\u001b[0;32m      6\u001b[0m \u001b[38;5;28mprint\u001b[39m(i)\n",
      "Input \u001b[1;32mIn [3]\u001b[0m, in \u001b[0;36mfoo\u001b[1;34m()\u001b[0m\n\u001b[0;32m      2\u001b[0m \u001b[38;5;28;01mdef\u001b[39;00m \u001b[38;5;21mfoo\u001b[39m():\n\u001b[1;32m----> 3\u001b[0m     \u001b[38;5;28mprint\u001b[39m(\u001b[43mi\u001b[49m)\n\u001b[0;32m      4\u001b[0m     i \u001b[38;5;241m=\u001b[39m \u001b[38;5;241m2\u001b[39m\n",
      "\u001b[1;31mUnboundLocalError\u001b[0m: local variable 'i' referenced before assignment"
     ]
    }
   ],
   "source": [
    "i=10\n",
    "def foo():\n",
    "    print(i)\n",
    "    i = 2\n",
    "foo()\n",
    "print(i)"
   ]
  },
  {
   "cell_type": "markdown",
   "id": "2b0fc765",
   "metadata": {},
   "source": [
    "# 2) списки и ссылки на них"
   ]
  },
  {
   "cell_type": "markdown",
   "id": "513df274",
   "metadata": {},
   "source": [
    "### этот код напечатает [13, 0]"
   ]
  },
  {
   "cell_type": "code",
   "execution_count": 4,
   "id": "5fcee5d1",
   "metadata": {},
   "outputs": [
    {
     "name": "stdout",
     "output_type": "stream",
     "text": [
      "[13, 0]\n"
     ]
    }
   ],
   "source": [
    "a = [0]*2\n",
    "a[0] = 13\n",
    "print(a)"
   ]
  },
  {
   "cell_type": "markdown",
   "id": "48b3b592",
   "metadata": {},
   "source": [
    "### а вот этот НЕ напечатает ожидаемые [[13, 0],[0,0]]"
   ]
  },
  {
   "cell_type": "code",
   "execution_count": 6,
   "id": "ab28e086",
   "metadata": {},
   "outputs": [
    {
     "name": "stdout",
     "output_type": "stream",
     "text": [
      "[[13, 0], [13, 0]]\n"
     ]
    }
   ],
   "source": [
    "b = [[0]*2]*2\n",
    "b[0][0] = 13\n",
    "print(b)"
   ]
  },
  {
   "cell_type": "markdown",
   "id": "66c769bd",
   "metadata": {},
   "source": [
    "### А всё потому, что двумерный массив нужно декларировать не так"
   ]
  },
  {
   "cell_type": "code",
   "execution_count": 7,
   "id": "f4799b40",
   "metadata": {},
   "outputs": [
    {
     "name": "stdout",
     "output_type": "stream",
     "text": [
      "[[13, 0], [0, 0]]\n"
     ]
    }
   ],
   "source": [
    "b = [[0] * 2 for i in range(2)]\n",
    "b[0][0] = 13\n",
    "print(b)"
   ]
  },
  {
   "cell_type": "code",
   "execution_count": 3,
   "id": "32d01dd2",
   "metadata": {},
   "outputs": [],
   "source": [
    "x=5"
   ]
  },
  {
   "cell_type": "code",
   "execution_count": 4,
   "id": "899708da-1e55-4318-9dc8-1cb4b24ce63b",
   "metadata": {},
   "outputs": [
    {
     "name": "stdout",
     "output_type": "stream",
     "text": [
      "5\n"
     ]
    }
   ],
   "source": [
    "print(x)"
   ]
  },
  {
   "cell_type": "code",
   "execution_count": 5,
   "id": "b8c9ec35-bbd4-48ff-899f-ba39e0a99472",
   "metadata": {},
   "outputs": [
    {
     "name": "stdout",
     "output_type": "stream",
     "text": [
      "5\n"
     ]
    }
   ],
   "source": [
    "y=x\n",
    "print(y)"
   ]
  },
  {
   "cell_type": "code",
   "execution_count": 6,
   "id": "264ee003-122b-4d9d-b4b4-c997f5a7052a",
   "metadata": {},
   "outputs": [
    {
     "name": "stdout",
     "output_type": "stream",
     "text": [
      "5\n"
     ]
    }
   ],
   "source": [
    "x=12\n",
    "print(y)"
   ]
  },
  {
   "cell_type": "markdown",
   "id": "da71fa76-9380-439f-b2b3-0724fa4409a6",
   "metadata": {},
   "source": []
  },
  {
   "cell_type": "code",
   "execution_count": 7,
   "id": "845f80e2-f97d-4e5e-90df-5e1b3e775781",
   "metadata": {},
   "outputs": [
    {
     "data": {
      "text/plain": [
       "True"
      ]
     },
     "execution_count": 7,
     "metadata": {},
     "output_type": "execute_result"
    }
   ],
   "source": [
    "x > 5"
   ]
  },
  {
   "cell_type": "code",
   "execution_count": 8,
   "id": "38935dd5-c8a0-4e0e-af92-0595a2d94419",
   "metadata": {},
   "outputs": [],
   "source": [
    " y = x > 5"
   ]
  },
  {
   "cell_type": "code",
   "execution_count": 9,
   "id": "dcfb833a-527a-4d72-94e2-565f155a9ebf",
   "metadata": {},
   "outputs": [],
   "source": [
    "y=x+7>x*2"
   ]
  },
  {
   "cell_type": "code",
   "execution_count": 10,
   "id": "aac40e7b-23a0-4279-af14-fdee193ef874",
   "metadata": {},
   "outputs": [
    {
     "name": "stdout",
     "output_type": "stream",
     "text": [
      "False\n"
     ]
    }
   ],
   "source": [
    "print(y)"
   ]
  },
  {
   "cell_type": "code",
   "execution_count": 11,
   "id": "d1171b03-c456-4980-b1a0-51ce852c33d4",
   "metadata": {},
   "outputs": [],
   "source": [
    "y=x+7>x**2"
   ]
  },
  {
   "cell_type": "code",
   "execution_count": 12,
   "id": "bfa73031-ff06-40e4-812d-6f819a0a9bc3",
   "metadata": {},
   "outputs": [
    {
     "data": {
      "text/plain": [
       "False"
      ]
     },
     "execution_count": 12,
     "metadata": {},
     "output_type": "execute_result"
    }
   ],
   "source": [
    "(x+7)>(x**2)"
   ]
  },
  {
   "cell_type": "markdown",
   "id": "f81ea7a9-6c08-4d18-bf74-0fc044f67757",
   "metadata": {},
   "source": [
    "приоритет"
   ]
  },
  {
   "cell_type": "code",
   "execution_count": null,
   "id": "ff9124a9-0824-4fb2-9d61-32f843cccb1a",
   "metadata": {},
   "outputs": [],
   "source": [
    "y=x+7>x+2*x**3**5\n",
    "y=(x+7) > (x+2(x**3)**5)\n",
    "\n",
    "y=(x+7) > (x+2(x(3**x)**))"
   ]
  }
 ],
 "metadata": {
  "kernelspec": {
   "display_name": "Python 3 (ipykernel)",
   "language": "python",
   "name": "python3"
  },
  "language_info": {
   "codemirror_mode": {
    "name": "ipython",
    "version": 3
   },
   "file_extension": ".py",
   "mimetype": "text/x-python",
   "name": "python",
   "nbconvert_exporter": "python",
   "pygments_lexer": "ipython3",
   "version": "3.9.12"
  },
  "toc-autonumbering": false,
  "toc-showcode": true,
  "toc-showtags": false
 },
 "nbformat": 4,
 "nbformat_minor": 5
}
