{
 "cells": [
  {
   "cell_type": "code",
   "execution_count": null,
   "id": "3a64a4aa",
   "metadata": {},
   "outputs": [],
   "source": [
    "for x in 1,2,7,4,5:\n",
    "    print(x)"
   ]
  },
  {
   "cell_type": "code",
   "execution_count": null,
   "id": "05a14467",
   "metadata": {},
   "outputs": [],
   "source": [
    "_list = [1,2,7,4,5]"
   ]
  },
  {
   "cell_type": "code",
   "execution_count": null,
   "id": "fe1394f7",
   "metadata": {},
   "outputs": [],
   "source": [
    "print(_list)"
   ]
  },
  {
   "cell_type": "code",
   "execution_count": null,
   "id": "a05f51d4",
   "metadata": {},
   "outputs": [],
   "source": [
    "for x in _list:\n",
    "    print(x)"
   ]
  },
  {
   "cell_type": "code",
   "execution_count": null,
   "id": "3fbfe357",
   "metadata": {},
   "outputs": [],
   "source": [
    "for x in r,g,b:\n",
    "    print(x)"
   ]
  },
  {
   "cell_type": "code",
   "execution_count": null,
   "id": "a8c73abb",
   "metadata": {},
   "outputs": [],
   "source": [
    "r=\"red\"\n",
    "g=\"green\"\n",
    "b=\"blue\"\n"
   ]
  },
  {
   "cell_type": "code",
   "execution_count": null,
   "id": "0fbe585f",
   "metadata": {},
   "outputs": [],
   "source": [
    "colors = [r,g,b]"
   ]
  },
  {
   "cell_type": "code",
   "execution_count": null,
   "id": "205f1ee8",
   "metadata": {},
   "outputs": [],
   "source": [
    "while colors:\n",
    "    print(colors)"
   ]
  },
  {
   "cell_type": "code",
   "execution_count": null,
   "id": "08d9a873",
   "metadata": {},
   "outputs": [],
   "source": [
    "colors = False"
   ]
  },
  {
   "cell_type": "code",
   "execution_count": null,
   "id": "56573f0b",
   "metadata": {},
   "outputs": [],
   "source": [
    "x = 25+ int(input())"
   ]
  },
  {
   "cell_type": "code",
   "execution_count": null,
   "id": "41c00cbd",
   "metadata": {},
   "outputs": [],
   "source": [
    "print(x)"
   ]
  },
  {
   "cell_type": "code",
   "execution_count": null,
   "id": "41f957d0",
   "metadata": {},
   "outputs": [],
   "source": []
  }
 ],
 "metadata": {
  "kernelspec": {
   "display_name": "Python 3 (ipykernel)",
   "language": "python",
   "name": "python3"
  },
  "language_info": {
   "codemirror_mode": {
    "name": "ipython",
    "version": 3
   },
   "file_extension": ".py",
   "mimetype": "text/x-python",
   "name": "python",
   "nbconvert_exporter": "python",
   "pygments_lexer": "ipython3",
   "version": "3.9.12"
  }
 },
 "nbformat": 4,
 "nbformat_minor": 5
}
