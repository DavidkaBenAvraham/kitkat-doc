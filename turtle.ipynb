{
 "cells": [
  {
   "cell_type": "markdown",
   "id": "1f08417f",
   "metadata": {},
   "source": [
    "### pip install ipyturtle3\n"
   ]
  },
  {
   "cell_type": "code",
   "execution_count": 12,
   "id": "db2bdcee",
   "metadata": {},
   "outputs": [],
   "source": [
    "import turtle"
   ]
  },
  {
   "cell_type": "code",
   "execution_count": 13,
   "id": "4fd7eedf",
   "metadata": {},
   "outputs": [],
   "source": [
    "tur = turtle.Turtle()\n"
   ]
  },
  {
   "cell_type": "code",
   "execution_count": 16,
   "id": "00c089e8-964b-46c6-a010-3258d1abcb0a",
   "metadata": {},
   "outputs": [],
   "source": [
    "def set_turtle():\n",
    "    tur.shape('turtle')\n"
   ]
  },
  {
   "cell_type": "code",
   "execution_count": 17,
   "id": "ced85069-007e-4b96-a551-52ed15431d42",
   "metadata": {},
   "outputs": [],
   "source": [
    "def draw_line():\n",
    "    tur.forward(100)\n"
   ]
  },
  {
   "cell_type": "code",
   "execution_count": 18,
   "id": "6162a255",
   "metadata": {},
   "outputs": [],
   "source": [
    "set_turtle()"
   ]
  },
  {
   "cell_type": "code",
   "execution_count": 19,
   "id": "78fda563",
   "metadata": {},
   "outputs": [
    {
     "ename": "",
     "evalue": "",
     "output_type": "error",
     "traceback": [
      "\u001b[1;31mПри выполнении кода в текущей ячейке или предыдущей ячейке ядро аварийно завершило работу. Проверьте код в ячейках, чтобы определить возможную причину сбоя. Щелкните <a href=\"https://aka.ms/vscodeJupyterKernelCrash\">здесь</a> для получения дополнительных сведений. Подробнее см. в <a href='command:jupyter.viewOutput'>журнале Jupyter</a>."
     ]
    }
   ],
   "source": [
    "draw_line()\n"
   ]
  },
  {
   "cell_type": "code",
   "execution_count": 14,
   "id": "e53e3188",
   "metadata": {},
   "outputs": [
    {
     "ename": "AttributeError",
     "evalue": "'str' object has no attribute '_colorstr'",
     "output_type": "error",
     "traceback": [
      "\u001b[1;31m---------------------------------------------------------------------------\u001b[0m",
      "\u001b[1;31mAttributeError\u001b[0m                            Traceback (most recent call last)",
      "Input \u001b[1;32mIn [14]\u001b[0m, in \u001b[0;36m<cell line: 1>\u001b[1;34m()\u001b[0m\n\u001b[1;32m----> 1\u001b[0m \u001b[43mtur\u001b[49m\u001b[38;5;241;43m.\u001b[39;49m\u001b[43mcolor\u001b[49m\u001b[43m(\u001b[49m\u001b[38;5;124;43m'\u001b[39;49m\u001b[38;5;124;43mblack\u001b[39;49m\u001b[38;5;124;43m'\u001b[39;49m\u001b[43m,\u001b[49m\u001b[38;5;124;43m'\u001b[39;49m\u001b[38;5;124;43mred\u001b[39;49m\u001b[38;5;124;43m'\u001b[39;49m\u001b[43m)\u001b[49m\n",
      "File \u001b[1;32m~\\anaconda3\\lib\\turtle.py:2217\u001b[0m, in \u001b[0;36mTPen.color\u001b[1;34m(self, *args)\u001b[0m\n\u001b[0;32m   2215\u001b[0m \u001b[38;5;28;01melif\u001b[39;00m l \u001b[38;5;241m==\u001b[39m \u001b[38;5;241m3\u001b[39m:\n\u001b[0;32m   2216\u001b[0m     pcolor \u001b[38;5;241m=\u001b[39m fcolor \u001b[38;5;241m=\u001b[39m args\n\u001b[1;32m-> 2217\u001b[0m pcolor \u001b[38;5;241m=\u001b[39m \u001b[38;5;28;43mself\u001b[39;49m\u001b[38;5;241;43m.\u001b[39;49m\u001b[43m_colorstr\u001b[49m(pcolor)\n\u001b[0;32m   2218\u001b[0m fcolor \u001b[38;5;241m=\u001b[39m \u001b[38;5;28mself\u001b[39m\u001b[38;5;241m.\u001b[39m_colorstr(fcolor)\n\u001b[0;32m   2219\u001b[0m \u001b[38;5;28mself\u001b[39m\u001b[38;5;241m.\u001b[39mpen(pencolor\u001b[38;5;241m=\u001b[39mpcolor, fillcolor\u001b[38;5;241m=\u001b[39mfcolor)\n",
      "\u001b[1;31mAttributeError\u001b[0m: 'str' object has no attribute '_colorstr'"
     ]
    }
   ],
   "source": [
    "tur.color('black','red')"
   ]
  },
  {
   "cell_type": "code",
   "execution_count": 15,
   "id": "30d38150",
   "metadata": {},
   "outputs": [
    {
     "ename": "TypeError",
     "evalue": "back() missing 1 required positional argument: 'distance'",
     "output_type": "error",
     "traceback": [
      "\u001b[1;31m---------------------------------------------------------------------------\u001b[0m",
      "\u001b[1;31mTypeError\u001b[0m                                 Traceback (most recent call last)",
      "Input \u001b[1;32mIn [15]\u001b[0m, in \u001b[0;36m<cell line: 1>\u001b[1;34m()\u001b[0m\n\u001b[1;32m----> 1\u001b[0m \u001b[43mtur\u001b[49m\u001b[38;5;241;43m.\u001b[39;49m\u001b[43mbackward\u001b[49m\u001b[43m(\u001b[49m\u001b[38;5;241;43m50\u001b[39;49m\u001b[43m)\u001b[49m\n",
      "\u001b[1;31mTypeError\u001b[0m: back() missing 1 required positional argument: 'distance'"
     ]
    }
   ],
   "source": [
    "tur.backward(50)"
   ]
  },
  {
   "cell_type": "code",
   "execution_count": 16,
   "id": "e94df7cc",
   "metadata": {},
   "outputs": [
    {
     "ename": "TypeError",
     "evalue": "left() missing 1 required positional argument: 'angle'",
     "output_type": "error",
     "traceback": [
      "\u001b[1;31m---------------------------------------------------------------------------\u001b[0m",
      "\u001b[1;31mTypeError\u001b[0m                                 Traceback (most recent call last)",
      "Input \u001b[1;32mIn [16]\u001b[0m, in \u001b[0;36m<cell line: 1>\u001b[1;34m()\u001b[0m\n\u001b[1;32m----> 1\u001b[0m \u001b[43mtur\u001b[49m\u001b[38;5;241;43m.\u001b[39;49m\u001b[43mleft\u001b[49m\u001b[43m(\u001b[49m\u001b[38;5;241;43m90\u001b[39;49m\u001b[43m)\u001b[49m\n",
      "\u001b[1;31mTypeError\u001b[0m: left() missing 1 required positional argument: 'angle'"
     ]
    }
   ],
   "source": [
    "tur.left(90)"
   ]
  },
  {
   "cell_type": "code",
   "execution_count": 17,
   "id": "a0fe04ce",
   "metadata": {},
   "outputs": [
    {
     "ename": "TypeError",
     "evalue": "right() missing 1 required positional argument: 'angle'",
     "output_type": "error",
     "traceback": [
      "\u001b[1;31m---------------------------------------------------------------------------\u001b[0m",
      "\u001b[1;31mTypeError\u001b[0m                                 Traceback (most recent call last)",
      "Input \u001b[1;32mIn [17]\u001b[0m, in \u001b[0;36m<cell line: 1>\u001b[1;34m()\u001b[0m\n\u001b[1;32m----> 1\u001b[0m \u001b[43mtur\u001b[49m\u001b[38;5;241;43m.\u001b[39;49m\u001b[43mright\u001b[49m\u001b[43m(\u001b[49m\u001b[38;5;241;43m90\u001b[39;49m\u001b[43m)\u001b[49m\n",
      "\u001b[1;31mTypeError\u001b[0m: right() missing 1 required positional argument: 'angle'"
     ]
    }
   ],
   "source": [
    "tur.right(90)"
   ]
  },
  {
   "cell_type": "code",
   "execution_count": 18,
   "id": "eb4737d1",
   "metadata": {},
   "outputs": [
    {
     "ename": "TypeError",
     "evalue": "hideturtle() missing 1 required positional argument: 'self'",
     "output_type": "error",
     "traceback": [
      "\u001b[1;31m---------------------------------------------------------------------------\u001b[0m",
      "\u001b[1;31mTypeError\u001b[0m                                 Traceback (most recent call last)",
      "Input \u001b[1;32mIn [18]\u001b[0m, in \u001b[0;36m<cell line: 1>\u001b[1;34m()\u001b[0m\n\u001b[1;32m----> 1\u001b[0m \u001b[43mtur\u001b[49m\u001b[38;5;241;43m.\u001b[39;49m\u001b[43mhideturtle\u001b[49m\u001b[43m(\u001b[49m\u001b[43m)\u001b[49m\n",
      "\u001b[1;31mTypeError\u001b[0m: hideturtle() missing 1 required positional argument: 'self'"
     ]
    }
   ],
   "source": [
    "tur.hideturtle()"
   ]
  },
  {
   "cell_type": "code",
   "execution_count": 19,
   "id": "a2fc1473",
   "metadata": {},
   "outputs": [
    {
     "ename": "TypeError",
     "evalue": "showturtle() missing 1 required positional argument: 'self'",
     "output_type": "error",
     "traceback": [
      "\u001b[1;31m---------------------------------------------------------------------------\u001b[0m",
      "\u001b[1;31mTypeError\u001b[0m                                 Traceback (most recent call last)",
      "Input \u001b[1;32mIn [19]\u001b[0m, in \u001b[0;36m<cell line: 1>\u001b[1;34m()\u001b[0m\n\u001b[1;32m----> 1\u001b[0m \u001b[43mtur\u001b[49m\u001b[38;5;241;43m.\u001b[39;49m\u001b[43mshowturtle\u001b[49m\u001b[43m(\u001b[49m\u001b[43m)\u001b[49m\n",
      "\u001b[1;31mTypeError\u001b[0m: showturtle() missing 1 required positional argument: 'self'"
     ]
    }
   ],
   "source": [
    "tur.showturtle()"
   ]
  },
  {
   "cell_type": "code",
   "execution_count": 20,
   "id": "74c76c79",
   "metadata": {},
   "outputs": [
    {
     "ename": "TypeError",
     "evalue": "circle() missing 1 required positional argument: 'radius'",
     "output_type": "error",
     "traceback": [
      "\u001b[1;31m---------------------------------------------------------------------------\u001b[0m",
      "\u001b[1;31mTypeError\u001b[0m                                 Traceback (most recent call last)",
      "Input \u001b[1;32mIn [20]\u001b[0m, in \u001b[0;36m<cell line: 1>\u001b[1;34m()\u001b[0m\n\u001b[1;32m----> 1\u001b[0m \u001b[43mtur\u001b[49m\u001b[38;5;241;43m.\u001b[39;49m\u001b[43mcircle\u001b[49m\u001b[43m(\u001b[49m\u001b[38;5;241;43m40\u001b[39;49m\u001b[43m)\u001b[49m\n",
      "\u001b[1;31mTypeError\u001b[0m: circle() missing 1 required positional argument: 'radius'"
     ]
    }
   ],
   "source": [
    "tur.circle(40)"
   ]
  },
  {
   "cell_type": "code",
   "execution_count": 21,
   "id": "f6ea4c15",
   "metadata": {},
   "outputs": [
    {
     "ename": "TypeError",
     "evalue": "clear() missing 1 required positional argument: 'self'",
     "output_type": "error",
     "traceback": [
      "\u001b[1;31m---------------------------------------------------------------------------\u001b[0m",
      "\u001b[1;31mTypeError\u001b[0m                                 Traceback (most recent call last)",
      "Input \u001b[1;32mIn [21]\u001b[0m, in \u001b[0;36m<cell line: 1>\u001b[1;34m()\u001b[0m\n\u001b[1;32m----> 1\u001b[0m \u001b[43mtur\u001b[49m\u001b[38;5;241;43m.\u001b[39;49m\u001b[43mclear\u001b[49m\u001b[43m(\u001b[49m\u001b[43m)\u001b[49m\n",
      "\u001b[1;31mTypeError\u001b[0m: clear() missing 1 required positional argument: 'self'"
     ]
    }
   ],
   "source": [
    "tur.clear()"
   ]
  },
  {
   "cell_type": "code",
   "execution_count": 22,
   "id": "99e3c4dd",
   "metadata": {},
   "outputs": [],
   "source": [
    "\n",
    "def draw_square():\n",
    "    #SQUARE\n",
    "    #side = int(input(\"Length of side: \"))\n",
    "    side = 50\n",
    "    for i in range(4):\n",
    "       tur.forward(side)\n",
    "       tur.left(90)\n",
    "\n",
    "def draw_rectange():\n",
    "    #RECTANGLE\n",
    "    tur.clear()\n",
    "    #side_a = int(input(\"Length of side a: \"))\n",
    "    #side_b = int(input(\"Length of side b: \"))\n",
    "    side_a = 30\n",
    "    side_b = 40\n",
    "    tur.forward(side_a)\n",
    "    tur.left(90)\n",
    "    tur.forward(side_b)\n",
    "    tur.left(90)\n",
    "    tur.forward(side_a)\n",
    "    tur.left(90)\n",
    "    tur.forward(side_b)\n",
    "    tur.left(90)\n",
    "    \n",
    "def draw_circle():\n",
    "    #CIRCLE\n",
    "    tur.clear()\n",
    "    #radius = int(input(\"Radius of circle: \"))\n",
    "    radius = 40\n",
    "    tur.circle(radius)\n",
    "    \n",
    "    \n",
    "def draw_hexagon():\n",
    "    #HEXAGON\n",
    "    tur.clear()\n",
    "    side = 50\n",
    "    for i in range(6):\n",
    "       tur.forward(side)\n",
    "       tur.left(300)\n",
    "\n",
    "def draw_triangle():  \n",
    "    #TRIANGLE\n",
    "    tur.clear()\n",
    "    side = 50\n",
    "    for i in range(3):\n",
    "        tur.forward(side)\n",
    "        tur.left(360/3)\n",
    "        \n",
    "def draw_david():\n",
    "    tur.pen(pencolor=\"darkblue\", fillcolor=\"blue\", pensize=8, speed=3)\n",
    "    tur.clear()\n",
    "    show_turtle()\n",
    "    side = 50\n",
    "    for step in range(6):\n",
    "        tur.begin_fill()\n",
    "        for i in range(3):\n",
    "            tur.forward(side)\n",
    "            tur.left(360/3)\n",
    "        tur.end_fill()\n",
    "        tur.forward(side)\n",
    "        #t.right(60)\n",
    "        tur.left(300)\n",
    "    hide_turtle()\n",
    "    tur.pen(pencolor=\"black\", pensize=1)\n",
    "    \n",
    "    \n",
    "def clear():\n",
    "    tur.clear()\n",
    "    \n",
    " \n",
    "def show_turtle():\n",
    "    tur.showturtle()\n",
    "    pass\n",
    "\n",
    "def hide_turtle():\n",
    "    tur.hideturtle()\n",
    "    pass\n",
    "\n",
    "def many_turtles():\n",
    "    tur1 = turtle.Turtle()\n",
    "    tur1.up()\n",
    "    tur1.setpos(-100, 50)\n",
    "    tur1.down()\n",
    "    tur1.circle(50)\n",
    "\n",
    "\n",
    "    tur2 = turtle.Turtle()\n",
    "    tur2.up()\n",
    "    tur2.setpos(50, 50)\n",
    "    tur2.down()\n",
    "    tur2.circle(50)\n",
    "\n",
    "\n",
    "    tur3 = turtle.Turtle()\n",
    "    tur3.up()\n",
    "    tur3.setpos(50, -100)\n",
    "    tur3.down()\n",
    "    tur3.circle(50)\n",
    "\n",
    "\n",
    "    tur4 = turtle.Turtle()\n",
    "    tur4.up()\n",
    "    tur4.setpos(-100, -100)\n",
    "    tur4.down()\n",
    "    tur4.circle(50)\n",
    "\n",
    "\n",
    "    tur1.clear()\n",
    "    tur3.clear()\n",
    "    #turtle.done()\n",
    "    \n",
    "\n",
    "def exit_turtle():\n",
    "    tur.bye()"
   ]
  },
  {
   "cell_type": "code",
   "execution_count": 26,
   "id": "c272aaf7",
   "metadata": {},
   "outputs": [
    {
     "name": "stdout",
     "output_type": "stream",
     "text": [
      "pen() missing 1 required positional argument: 'self'\n"
     ]
    }
   ],
   "source": [
    "try:\n",
    "    draw_david()\n",
    "except Exception as ex:\n",
    "    print(ex)"
   ]
  },
  {
   "cell_type": "code",
   "execution_count": null,
   "id": "e68d2126-8e59-4c87-a729-69f05d0e34bd",
   "metadata": {},
   "outputs": [],
   "source": []
  },
  {
   "cell_type": "code",
   "execution_count": null,
   "id": "78f7da01-9178-4a7c-b333-f795902d4f05",
   "metadata": {},
   "outputs": [],
   "source": []
  },
  {
   "cell_type": "code",
   "execution_count": null,
   "id": "983214e4",
   "metadata": {},
   "outputs": [],
   "source": [
    "draw_rectange()"
   ]
  },
  {
   "cell_type": "code",
   "execution_count": null,
   "id": "6eeb1e4e",
   "metadata": {},
   "outputs": [],
   "source": [
    "draw_square()"
   ]
  },
  {
   "cell_type": "code",
   "execution_count": null,
   "id": "c9759cfa",
   "metadata": {},
   "outputs": [],
   "source": [
    "draw_circle()"
   ]
  },
  {
   "cell_type": "code",
   "execution_count": null,
   "id": "52205d8d",
   "metadata": {},
   "outputs": [],
   "source": [
    "draw_hexagon()"
   ]
  },
  {
   "cell_type": "code",
   "execution_count": null,
   "id": "1938f98f",
   "metadata": {},
   "outputs": [],
   "source": [
    "draw_triangle()"
   ]
  },
  {
   "cell_type": "code",
   "execution_count": null,
   "id": "b658c403",
   "metadata": {},
   "outputs": [],
   "source": [
    "clear()"
   ]
  },
  {
   "cell_type": "code",
   "execution_count": null,
   "id": "e2d0773a",
   "metadata": {},
   "outputs": [],
   "source": [
    "show_turtle()"
   ]
  },
  {
   "cell_type": "code",
   "execution_count": null,
   "id": "6c9b6000",
   "metadata": {},
   "outputs": [],
   "source": [
    "hide_turtle()"
   ]
  },
  {
   "cell_type": "code",
   "execution_count": null,
   "id": "335ee1c9",
   "metadata": {},
   "outputs": [],
   "source": [
    "many_turtles()"
   ]
  },
  {
   "cell_type": "code",
   "execution_count": null,
   "id": "ad478c67",
   "metadata": {},
   "outputs": [],
   "source": [
    "for step in range(6):\n",
    "    tur.begin_fill()\n",
    "    for i in range(3):\n",
    "        tur.forward(50)\n",
    "        tur.left(360/3)\n",
    "    tur.end_fill()\n",
    "    tur.forward(50)\n",
    "    tur.right(60)\n",
    "   "
   ]
  },
  {
   "cell_type": "code",
   "execution_count": null,
   "id": "f0b25efe",
   "metadata": {},
   "outputs": [],
   "source": []
  },
  {
   "cell_type": "code",
   "execution_count": null,
   "id": "db6413f9",
   "metadata": {},
   "outputs": [],
   "source": []
  },
  {
   "cell_type": "code",
   "execution_count": null,
   "id": "a4f5fa32",
   "metadata": {},
   "outputs": [],
   "source": [
    "\n",
    "def spiral_triangle():\n",
    "    n = 8\n",
    "    clear()\n",
    "    tur.setpos(50, 50)\n",
    "    tur.pen(pencolor=\"black\", fillcolor=\"orange\", pensize=5, speed=3)\n",
    "    #tur.clear()\n",
    "    for i in range(n * 6): \n",
    "        tur.forward(i * 8) \n",
    "        #tur.right(120)\n",
    "        tur.left(120)\n"
   ]
  },
  {
   "cell_type": "code",
   "execution_count": null,
   "id": "097630bc",
   "metadata": {},
   "outputs": [],
   "source": [
    "spiral_triangle()"
   ]
  },
  {
   "cell_type": "code",
   "execution_count": null,
   "id": "538aaa84",
   "metadata": {},
   "outputs": [],
   "source": [
    "tur.left(900)"
   ]
  },
  {
   "cell_type": "code",
   "execution_count": null,
   "id": "4e9f981b",
   "metadata": {},
   "outputs": [],
   "source": [
    "import math.random\n"
   ]
  },
  {
   "cell_type": "code",
   "execution_count": null,
   "id": "01756a26",
   "metadata": {},
   "outputs": [],
   "source": [
    "\n",
    "def fractal(size=360 , speed=6):\n",
    "    tur.speed(speed)\n",
    "\n",
    "    tur.getscreen().bgcolor(\"black\")\n",
    "    tur.color(\"cyan\")\n",
    "\n",
    "    tur.penup()\n",
    "\n",
    "    tur.goto((-200, 50))\n",
    "\n",
    "\n",
    "    tur.pendown()\n",
    "\n",
    "\n",
    "    def star(turtle, size):\n",
    "        if size <= 1:\n",
    "            return\n",
    "        else:\n",
    "            for i in range(5):\n",
    "\n",
    "\n",
    "                turtle.forward(size)\n",
    "                star(turtle, size/3)\n",
    "\n",
    "                turtle.left(216)\n",
    "\n",
    "\n",
    "    star(tur, size)\n",
    "    turtle.done()"
   ]
  },
  {
   "cell_type": "code",
   "execution_count": null,
   "id": "7972e99f",
   "metadata": {},
   "outputs": [],
   "source": [
    "fractal(400,20)"
   ]
  },
  {
   "cell_type": "code",
   "execution_count": null,
   "id": "174e6053",
   "metadata": {},
   "outputs": [],
   "source": [
    "exit_turtle()"
   ]
  },
  {
   "cell_type": "code",
   "execution_count": null,
   "id": "4c30275f",
   "metadata": {},
   "outputs": [],
   "source": [
    "tur.pen(pencolor=\"purple\", fillcolor=\"orange\", pensize=10, speed=9)\n",
    "tur.begin_fill()\n",
    "tur.circle(90)\n",
    "tur.end_fill()"
   ]
  },
  {
   "cell_type": "code",
   "execution_count": null,
   "id": "51a5154b",
   "metadata": {},
   "outputs": [],
   "source": [
    "n=10\n",
    "while n <= 120:\n",
    "    tur.circle(n)\n",
    "    n = n+10"
   ]
  },
  {
   "cell_type": "code",
   "execution_count": 1,
   "id": "6661c329",
   "metadata": {},
   "outputs": [],
   "source": [
    "from turtle import *\n",
    "import turtle\n",
    "  \n",
    "  \n",
    "speed('fastest')\n",
    "  \n",
    "\n",
    "right(-90)\n",
    "  \n",
    "\n",
    "angle = 30\n",
    "  \n",
    "\n",
    "def yaxis(size, lvl):   \n",
    "  \n",
    "    if lvl > 0:\n",
    "        colormode(255)\n",
    "          \n",
    "       \n",
    "        pencolor(0, 255//lvl, 0)\n",
    "          \n",
    "        forward(size)\n",
    "  \n",
    "        right(angle)\n",
    " \n",
    "        yaxis(0.8 * size, lvl-1)\n",
    "          \n",
    "        pencolor(0, 255//lvl, 0)\n",
    "          \n",
    "        lt( 2 * angle )\n",
    "  \n",
    "        yaxis(0.8 * size, lvl-1)\n",
    "          \n",
    "        pencolor(0, 255//lvl, 0)\n",
    "          \n",
    "        right(angle)\n",
    "        forward(-size)\n",
    "           \n",
    "yaxis(90, 7)\n",
    "turtle.done()"
   ]
  },
  {
   "cell_type": "code",
   "execution_count": null,
   "id": "d1b8c1e0",
   "metadata": {},
   "outputs": [],
   "source": []
  }
 ],
 "metadata": {
  "celltoolbar": "Отсутствует",
  "kernelspec": {
   "display_name": "Python 3.10.5 64-bit (windows store)",
   "language": "python",
   "name": "python3"
  },
  "language_info": {
   "codemirror_mode": {
    "name": "ipython",
    "version": 3
   },
   "file_extension": ".py",
   "mimetype": "text/x-python",
   "name": "python",
   "nbconvert_exporter": "python",
   "pygments_lexer": "ipython3",
   "version": "3.10.5"
  },
  "vscode": {
   "interpreter": {
    "hash": "7b1f2b33e866b0bf2409397e5f58ba9cdf170d3b7f64c8f359c79998e2f88ad4"
   }
  }
 },
 "nbformat": 4,
 "nbformat_minor": 5
}
