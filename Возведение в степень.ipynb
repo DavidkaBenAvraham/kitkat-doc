{
 "cells": [
  {
   "cell_type": "markdown",
   "id": "5d8d6eda-d2ee-4590-97a1-017c163275d2",
   "metadata": {},
   "source": [
    "#  Возведение в степень — частный случай умножения\n",
    "https://pythonchik.ru/matematika/vozvedenie-v-stepen-v-python\n"
   ]
  },
  {
   "cell_type": "markdown",
   "id": "c1a157bf-7575-42d5-bc83-00278bbba1b2",
   "metadata": {},
   "source": [
    "Возведение в степень определяется как результат n-кратного умножения числа самого на себя."
   ]
  },
  {
   "cell_type": "code",
   "execution_count": 6,
   "id": "7e509815-73b3-4b76-ae20-95ec7338e961",
   "metadata": {},
   "outputs": [
    {
     "data": {
      "text/plain": [
       "True"
      ]
     },
     "execution_count": 6,
     "metadata": {},
     "output_type": "execute_result"
    }
   ],
   "source": [
    "6 + 6 + 6 + 6 + 6 + 6 == 6 * 6"
   ]
  },
  {
   "cell_type": "code",
   "execution_count": 8,
   "id": "6c9e18c8-9670-4cf4-993c-3601221818ed",
   "metadata": {},
   "outputs": [],
   "source": [
    "x = 2\n",
    "y = 3\n",
    "z = x**y"
   ]
  },
  {
   "cell_type": "code",
   "execution_count": 9,
   "id": "900aa15f-768b-48f1-ba79-66cb912c09bd",
   "metadata": {},
   "outputs": [],
   "source": [
    "for i in range(y):\n",
    "    x*=x"
   ]
  },
  {
   "cell_type": "code",
   "execution_count": 10,
   "id": "e201b84c-b906-4f44-a81a-cb892f027b2d",
   "metadata": {},
   "outputs": [
    {
     "name": "stdout",
     "output_type": "stream",
     "text": [
      "256\n"
     ]
    }
   ],
   "source": [
    "print(x)"
   ]
  },
  {
   "cell_type": "code",
   "execution_count": 11,
   "id": "c2faa9e1-0e24-40a3-82b9-4e8d6fce3293",
   "metadata": {},
   "outputs": [],
   "source": [
    "import math"
   ]
  },
  {
   "cell_type": "code",
   "execution_count": 12,
   "id": "7ac690a3-c3de-4f0d-af31-034e4ac6def9",
   "metadata": {},
   "outputs": [],
   "source": [
    "i = pow(2,3)"
   ]
  },
  {
   "cell_type": "code",
   "execution_count": 13,
   "id": "61b39b06-6f43-4404-a905-bfeabf8e30d7",
   "metadata": {},
   "outputs": [
    {
     "name": "stdout",
     "output_type": "stream",
     "text": [
      "8\n"
     ]
    }
   ],
   "source": [
    "print(i)"
   ]
  },
  {
   "cell_type": "markdown",
   "id": "f2e60636-517c-4850-afe8-7f4b07b0ce6d",
   "metadata": {},
   "source": [
    "# Обратные операции"
   ]
  },
  {
   "cell_type": "markdown",
   "id": "5f8365a6-4937-489a-808f-4046eebc29ed",
   "metadata": {},
   "source": [
    "## Извлечение корня"
   ]
  },
  {
   "cell_type": "markdown",
   "id": "74def179-ef82-40b4-b71c-ea96db5e847f",
   "metadata": {},
   "source": [
    "У возведения в степень две обратные операции. Первая — извлечение корня. Подробнее о корнях в Python вы можете почитать в нашей статье. Отметим лишь, что корень в питоне вычисляется с помощью той же функции pow():"
   ]
  },
  {
   "cell_type": "code",
   "execution_count": 16,
   "id": "27bf680d-63f0-4f0d-8282-29e577d88fab",
   "metadata": {},
   "outputs": [
    {
     "name": "stdout",
     "output_type": "stream",
     "text": [
      "2.0\n"
     ]
    }
   ],
   "source": [
    "# корень четвёртой степени из 16\n",
    "root = pow(16, (1/4))\n",
    "\n",
    "print(root)\n"
   ]
  },
  {
   "cell_type": "code",
   "execution_count": 17,
   "id": "768edde2-baca-4f91-b432-0e013c5b808b",
   "metadata": {},
   "outputs": [
    {
     "name": "stdout",
     "output_type": "stream",
     "text": [
      "<class 'float'>\n"
     ]
    }
   ],
   "source": [
    "print(type(root))"
   ]
  },
  {
   "cell_type": "code",
   "execution_count": 18,
   "id": "93822809-e8cf-4b5e-a067-af6c1d54dd42",
   "metadata": {},
   "outputs": [
    {
     "name": "stdout",
     "output_type": "stream",
     "text": [
      "<class 'int'>\n"
     ]
    }
   ],
   "source": [
    "print(type(5))"
   ]
  },
  {
   "cell_type": "markdown",
   "id": "fb46eba3-3a97-4b0d-a800-f23735592b9b",
   "metadata": {},
   "source": []
  }
 ],
 "metadata": {
  "kernelspec": {
   "display_name": "Python 3.10.5 64-bit (windows store)",
   "language": "python",
   "name": "python3"
  },
  "language_info": {
   "codemirror_mode": {
    "name": "ipython",
    "version": 3
   },
   "file_extension": ".py",
   "mimetype": "text/x-python",
   "name": "python",
   "nbconvert_exporter": "python",
   "pygments_lexer": "ipython3",
   "version": "3.10.5"
  },
  "vscode": {
   "interpreter": {
    "hash": "7b1f2b33e866b0bf2409397e5f58ba9cdf170d3b7f64c8f359c79998e2f88ad4"
   }
  }
 },
 "nbformat": 4,
 "nbformat_minor": 5
}
